{
 "cells": [
  {
   "cell_type": "code",
   "execution_count": 1,
   "id": "3d3d3214",
   "metadata": {},
   "outputs": [
    {
     "name": "stderr",
     "output_type": "stream",
     "text": [
      "[I 2025-07-19 13:39:45,408] A new study created in memory with name: no-name-ce65d989-e002-416a-866f-9bf34ad3a208\n",
      "[I 2025-07-19 13:39:46,006] Trial 0 finished with value: 0.95 and parameters: {'n_estimators': 107, 'max_depth': None, 'min_samples_split': 10}. Best is trial 0 with value: 0.95.\n",
      "[I 2025-07-19 13:39:46,470] Trial 1 finished with value: 0.95 and parameters: {'n_estimators': 85, 'max_depth': 20, 'min_samples_split': 5}. Best is trial 0 with value: 0.95.\n",
      "[I 2025-07-19 13:39:46,912] Trial 2 finished with value: 0.9416666666666667 and parameters: {'n_estimators': 86, 'max_depth': 30, 'min_samples_split': 2}. Best is trial 0 with value: 0.95.\n",
      "[I 2025-07-19 13:39:47,502] Trial 3 finished with value: 0.95 and parameters: {'n_estimators': 115, 'max_depth': 20, 'min_samples_split': 6}. Best is trial 0 with value: 0.95.\n",
      "[I 2025-07-19 13:39:47,902] Trial 4 finished with value: 0.9416666666666667 and parameters: {'n_estimators': 80, 'max_depth': 20, 'min_samples_split': 2}. Best is trial 0 with value: 0.95.\n",
      "[I 2025-07-19 13:39:48,808] Trial 5 finished with value: 0.95 and parameters: {'n_estimators': 177, 'max_depth': 20, 'min_samples_split': 3}. Best is trial 0 with value: 0.95.\n",
      "[I 2025-07-19 13:39:49,962] Trial 6 finished with value: 0.95 and parameters: {'n_estimators': 181, 'max_depth': 30, 'min_samples_split': 9}. Best is trial 0 with value: 0.95.\n",
      "[I 2025-07-19 13:39:51,135] Trial 7 finished with value: 0.95 and parameters: {'n_estimators': 186, 'max_depth': 30, 'min_samples_split': 9}. Best is trial 0 with value: 0.95.\n",
      "[I 2025-07-19 13:39:51,902] Trial 8 finished with value: 0.95 and parameters: {'n_estimators': 108, 'max_depth': None, 'min_samples_split': 3}. Best is trial 0 with value: 0.95.\n",
      "[I 2025-07-19 13:39:52,770] Trial 9 finished with value: 0.95 and parameters: {'n_estimators': 135, 'max_depth': 20, 'min_samples_split': 8}. Best is trial 0 with value: 0.95.\n"
     ]
    },
    {
     "name": "stdout",
     "output_type": "stream",
     "text": [
      "Best Parameters: {'n_estimators': 107, 'max_depth': None, 'min_samples_split': 10}\n",
      "Best Cross-Validation Score: 0.95\n",
      "Test Set Score: 1.0\n"
     ]
    }
   ],
   "source": [
    "import optuna\n",
    "from sklearn.ensemble import RandomForestClassifier\n",
    "from sklearn.datasets import load_iris\n",
    "from sklearn.model_selection import cross_val_score, train_test_split\n",
    "\n",
    "# Load dataset\n",
    "X, y = load_iris(return_X_y=True)\n",
    "X_train, X_test, y_train, y_test = train_test_split(X, y, test_size=0.2, random_state=42)\n",
    "\n",
    "# Define objective function\n",
    "def objective(trial):\n",
    "    n_estimators = trial.suggest_int('n_estimators', 50, 200)\n",
    "    max_depth = trial.suggest_categorical('max_depth', [None, 10, 20, 30])\n",
    "    min_samples_split = trial.suggest_int('min_samples_split', 2, 10)\n",
    "    \n",
    "    model = RandomForestClassifier(\n",
    "        n_estimators=n_estimators,\n",
    "        max_depth=max_depth,\n",
    "        min_samples_split=min_samples_split,\n",
    "        random_state=42\n",
    "    )\n",
    "    return cross_val_score(model, X_train, y_train, cv=5, scoring='accuracy').mean()\n",
    "\n",
    "# Run optimization\n",
    "study = optuna.create_study(direction='maximize')\n",
    "study.optimize(objective, n_trials=10)\n",
    "\n",
    "# Output results\n",
    "print(\"Best Parameters:\", study.best_params)\n",
    "print(\"Best Cross-Validation Score:\", study.best_value)\n",
    "\n",
    "# Evaluate on test set\n",
    "best_model = RandomForestClassifier(**study.best_params, random_state=42)\n",
    "best_model.fit(X_train, y_train)\n",
    "print(\"Test Set Score:\", best_model.score(X_test, y_test))\n"
   ]
  },
  {
   "cell_type": "code",
   "execution_count": null,
   "id": "7f6b18b1",
   "metadata": {},
   "outputs": [],
   "source": []
  }
 ],
 "metadata": {
  "kernelspec": {
   "display_name": "idk",
   "language": "python",
   "name": "python3"
  },
  "language_info": {
   "codemirror_mode": {
    "name": "ipython",
    "version": 3
   },
   "file_extension": ".py",
   "mimetype": "text/x-python",
   "name": "python",
   "nbconvert_exporter": "python",
   "pygments_lexer": "ipython3",
   "version": "3.11.11"
  }
 },
 "nbformat": 4,
 "nbformat_minor": 5
}
